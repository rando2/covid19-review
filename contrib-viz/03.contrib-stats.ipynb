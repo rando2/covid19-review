{
 "cells": [
  {
   "cell_type": "markdown",
   "metadata": {},
   "source": [
    "# Generate Deep Review stats for templated use in the Meta Review\n",
    "\n",
    "Note that some statistics are generated from the deep-review git submodule, and correspond to the version specified by `commit`. Other statistics are generated from the GitHub API and reflect the repositories status at runtime, as specified by `creation_time_utc`."
   ]
  },
  {
   "cell_type": "code",
   "execution_count": 47,
   "metadata": {},
   "outputs": [],
   "source": [
    "import collections\n",
    "import datetime\n",
    "import json\n",
    "import pathlib\n",
    "\n",
    "import pandas\n",
    "import requests\n",
    "import yaml\n",
    "import wget"
   ]
  },
  {
   "cell_type": "code",
   "execution_count": 48,
   "metadata": {},
   "outputs": [],
   "source": [
    "stats = collections.OrderedDict()\n",
    "now = datetime.datetime.utcnow()\n",
    "stats['creation_time_utc'] = now.isoformat()\n",
    "stats['creation_date_pretty'] = f'{now:%B %d, %Y}'"
   ]
  },
  {
   "cell_type": "markdown",
   "metadata": {},
   "source": [
    "## Deep Review git repository stats"
   ]
  },
  {
   "cell_type": "code",
   "execution_count": 49,
   "metadata": {},
   "outputs": [
    {
     "data": {
      "text/html": [
       "<div>\n",
       "<style scoped>\n",
       "    .dataframe tbody tr th:only-of-type {\n",
       "        vertical-align: middle;\n",
       "    }\n",
       "\n",
       "    .dataframe tbody tr th {\n",
       "        vertical-align: top;\n",
       "    }\n",
       "\n",
       "    .dataframe thead th {\n",
       "        text-align: right;\n",
       "    }\n",
       "</style>\n",
       "<table border=\"1\" class=\"dataframe\">\n",
       "  <thead>\n",
       "    <tr style=\"text-align: right;\">\n",
       "      <th></th>\n",
       "      <th>commit</th>\n",
       "      <th>author_name</th>\n",
       "      <th>author_email</th>\n",
       "      <th>committer_name</th>\n",
       "      <th>authored_datetime</th>\n",
       "      <th>committed_datetime</th>\n",
       "      <th>summary</th>\n",
       "      <th>count</th>\n",
       "      <th>merge</th>\n",
       "      <th>parents</th>\n",
       "      <th>words_added</th>\n",
       "      <th>words_deleted</th>\n",
       "      <th>characters_added</th>\n",
       "      <th>characters_deleted</th>\n",
       "    </tr>\n",
       "  </thead>\n",
       "  <tbody>\n",
       "    <tr>\n",
       "      <th>4406</th>\n",
       "      <td>889a954939a92b177c86efd5154f240cf2620d05</td>\n",
       "      <td>Halie Rando</td>\n",
       "      <td>halie.rando@pennmedicine.upenn.edu</td>\n",
       "      <td>Halie Rando</td>\n",
       "      <td>2021-04-26</td>\n",
       "      <td>2021-04-26 19:17:23-04:00</td>\n",
       "      <td>responses to @agitter's structural suggestions</td>\n",
       "      <td>4681.0</td>\n",
       "      <td>0.0</td>\n",
       "      <td>a824ec6b91a77bf839ce561c83db5f221613f9ad</td>\n",
       "      <td>1198.0</td>\n",
       "      <td>954.0</td>\n",
       "      <td>9057.0</td>\n",
       "      <td>7595.0</td>\n",
       "    </tr>\n",
       "    <tr>\n",
       "      <th>4407</th>\n",
       "      <td>05acaf59cd3a3701df8ce0ad113773e154774d82</td>\n",
       "      <td>Halie Rando</td>\n",
       "      <td>halie.rando@cuanschutz.edu</td>\n",
       "      <td>GitHub</td>\n",
       "      <td>2021-04-27</td>\n",
       "      <td>2021-04-27 07:59:36-04:00</td>\n",
       "      <td>Merge pull request #939 from rando2/methods</td>\n",
       "      <td>4682.0</td>\n",
       "      <td>1.0</td>\n",
       "      <td>89dff08a5bb813c1bbc224275a347891ac8a532d, 889a...</td>\n",
       "      <td>2365.0</td>\n",
       "      <td>1491.0</td>\n",
       "      <td>17380.0</td>\n",
       "      <td>12011.0</td>\n",
       "    </tr>\n",
       "  </tbody>\n",
       "</table>\n",
       "</div>"
      ],
      "text/plain": [
       "                                        commit  author_name  \\\n",
       "4406  889a954939a92b177c86efd5154f240cf2620d05  Halie Rando   \n",
       "4407  05acaf59cd3a3701df8ce0ad113773e154774d82  Halie Rando   \n",
       "\n",
       "                            author_email committer_name authored_datetime  \\\n",
       "4406  halie.rando@pennmedicine.upenn.edu    Halie Rando        2021-04-26   \n",
       "4407          halie.rando@cuanschutz.edu         GitHub        2021-04-27   \n",
       "\n",
       "             committed_datetime  \\\n",
       "4406  2021-04-26 19:17:23-04:00   \n",
       "4407  2021-04-27 07:59:36-04:00   \n",
       "\n",
       "                                             summary   count  merge  \\\n",
       "4406  responses to @agitter's structural suggestions  4681.0    0.0   \n",
       "4407     Merge pull request #939 from rando2/methods  4682.0    1.0   \n",
       "\n",
       "                                                parents  words_added  \\\n",
       "4406           a824ec6b91a77bf839ce561c83db5f221613f9ad       1198.0   \n",
       "4407  89dff08a5bb813c1bbc224275a347891ac8a532d, 889a...       2365.0   \n",
       "\n",
       "      words_deleted  characters_added  characters_deleted  \n",
       "4406          954.0            9057.0              7595.0  \n",
       "4407         1491.0           17380.0             12011.0  "
      ]
     },
     "execution_count": 49,
     "metadata": {},
     "output_type": "execute_result"
    }
   ],
   "source": [
    "commit_df = pandas.read_csv('commits.tsv', sep='\\t')\n",
    "commit_df.tail(2)"
   ]
  },
  {
   "cell_type": "code",
   "execution_count": 50,
   "metadata": {},
   "outputs": [],
   "source": [
    "# State of the git repo (deep-review submodule)\n",
    "stats['commit'] = commit_df.commit.iloc[-1]"
   ]
  },
  {
   "cell_type": "code",
   "execution_count": 51,
   "metadata": {},
   "outputs": [],
   "source": [
    "stats['total_commits'] = len(commit_df)"
   ]
  },
  {
   "cell_type": "code",
   "execution_count": 52,
   "metadata": {},
   "outputs": [],
   "source": [
    "# Number of non-merge commits that modified the manuscript markdown source\n",
    "writing_commit_df = commit_df.query(\"(characters_added > 0 or characters_deleted > 0) and merge == 0\")\n",
    "stats['manuscript_commits'] = len(writing_commit_df)"
   ]
  },
  {
   "cell_type": "markdown",
   "metadata": {},
   "source": [
    "### Number of formal Deep Review authors"
   ]
  },
  {
   "cell_type": "code",
   "execution_count": 53,
   "metadata": {},
   "outputs": [
    {
     "name": "stdout",
     "output_type": "stream",
     "text": [
      "{'title': 'SARS-CoV-2 and COVID-19: An Evolving Review of Diagnostics and Therapeutics', 'keywords': ['covid-19', 'coronavirus', 'pandemic', 'viral infection'], 'lang': 'en-US', 'authors': [{'github': 'rando2', 'name': 'Halie M. Rando', 'initials': 'HMR', 'orcid': '0000-0001-7688-1770', 'twitter': 'tamefoxtime', 'email': 'halie.rando@cuanschutz.edu', 'contributions': ['Project Administration', 'Writing - Original Draft', 'Writing - Review & Editing', 'Methodology'], 'code of conduct': {'confirmed': True}, 'affiliations': ['Department of Systems Pharmacology and Translational Therapeutics, University of Pennsylvania, Philadelphia, Pennsylvania, United States of America', 'Department of Biochemistry and Molecular Genetics, University of Colorado School of Medicine, Aurora, Colorado, United States of America', 'Center for Health AI, University of Colorado School of Medicine, Aurora, Colorado, United States of America'], 'coi': {'string': 'None', 'lastapproved': '2021-01-20'}, 'funders': ['the Gordon and Betty Moore Foundation (GBMF 4552)'], 'manuscripts': {'pathogenesis': {'order': 1, 'contributions': ['Project Administration', 'Writing - Original Draft', 'Writing - Review & Editing']}, 'nutraceuticals': {'order': 2, 'contributions': ['Writing - Review & Editing', 'Writing - Original Draft']}, 'pharmaceuticals': {'order': 1, 'contributions': ['Writing - Review & Editing', 'Writing - Original Draft', 'Project Administration']}, 'evolution': {'order': 1, 'contributions': ['D', 'E']}, 'diagnostics': {'order': 1, 'contributions': ['A', 'E']}}}, {'github': 'cgreene', 'name': 'Casey S. Greene', 'initials': 'CSG', 'orcid': '0000-0001-8713-9213', 'twitter': 'GreeneScientist', 'email': 'greenescientist@gmail.com', 'contributions': ['Conceptualization', 'Software', 'Writing - Review & Editing'], 'code of conduct': {'confirmed': True}, 'affiliations': ['Department of Systems Pharmacology and Translational Therapeutics, University of Pennsylvania, Philadelphia, Pennsylvania, United States of America', \"Childhood Cancer Data Lab, Alex's Lemonade Stand Foundation, Philadelphia, Pennsylvania, United States of America\", 'Department of Biochemistry and Molecular Genetics, University of Colorado School of Medicine, Aurora, Colorado, United States of America', 'Center for Health AI, University of Colorado School of Medicine, Aurora, Colorado, United States of America'], 'coi': {'string': 'None', 'lastapproved': '2021-01-20'}, 'funders': ['the Gordon and Betty Moore Foundation (GBMF 4552)', 'the National Human Genome Research Institute (R01 HG010067)'], 'manuscripts': {'pathogenesis': {'order': 10, 'contributions': ['Conceptualization', 'Software', 'Writing - Review & Editing']}, 'nutraceuticals': {'order': 4, 'contributions': ['Project Administration', 'Supervision']}, 'pharmaceuticals': {'order': 11, 'contributions': ['Writing - Review & Editing', 'Project Administration']}}}, {'github': 'mprobson', 'name': 'Michael P. Robson', 'initials': 'MPR', 'orcid': '0000-0002-4859-0033', 'email': 'michael.robson@villanova.edu', 'contributions': ['Software'], 'code of conduct': {'confirmed': True}, 'affiliations': ['Department of Computing Sciences, Villanova University, Villanova, Pennsylvania, United States of America'], 'coi': {'string': 'None', 'lastapproved': '2020-11-12'}}, {'github': 'SiminaB', 'name': 'Simina M. Boca', 'initials': 'SMB', 'orcid': '0000-0002-1400-3398', 'email': 'smb310@georgetown.edu', 'contributions': ['Methodology', 'Writing - Review & Editing'], 'code of conduct': {'confirmed': True}, 'affiliations': ['Innovation Center for Biomedical Informatics, Georgetown University Medical Center, Washington, District of Columbia, United States of America'], 'coi': {'string': 'None', 'lastapproved': '2020-11-07'}, 'manuscripts': {'pathogenesis': {'order': 4, 'contributions': ['Writing - Review & Editing']}, 'pharmaceuticals': {'order': 9, 'contributions': ['Writing - Review & Editing', 'Project Administration']}}}, {'github': 'nilswellhausen', 'name': 'Nils Wellhausen', 'initials': 'NW', 'orcid': '0000-0001-8955-7582', 'email': 'nilsw@pennmedicine.upenn.edu', 'contributions': ['Writing - Original Draft', 'Writing - Review & Editing', 'Project Administration', 'Visualization'], 'code of conduct': {'confirmed': True}, 'affiliations': ['Department of Systems Pharmacology and Translational Therapeutics, University of Pennsylvania, Philadelphia, Pennsylvania, United States of America'], 'coi': {'string': 'None', 'lastapproved': '2020-11-03'}, 'manuscripts': {'pathogenesis': {'order': 4, 'contributions': ['Writing - Review & Editing', 'Writing - Original Draft', 'Visualization']}, 'pharmaceuticals': {'order': 2, 'contributions': ['Writing - Review & Editing', 'Writing - Original Draft', 'Project Administration', 'Visualization']}}}, {'github': 'RLordan', 'name': 'Ronan Lordan', 'initials': 'RL', 'orcid': '0000-0001-9668-3368', 'twitter': 'el_ronan', 'email': 'ronan.lordan@pennmedicine.upenn.edu', 'contributions': ['Writing - Original Draft', 'Writing - Review & Editing'], 'code of conduct': {'confirmed': True}, 'affiliations': ['Institute for Translational Medicine and Therapeutics, Perelman School of Medicine, University of Pennsylvania, Philadelphia, PA 19104-5158, USA'], 'coi': {'string': 'None', 'lastapproved': '2020-11-03'}, 'manuscripts': {'pathogenesis': {'order': 6, 'contributions': ['Writing - Review & Editing']}, 'nutraceuticals': {'order': 1, 'contributions': ['Writing - Review & Editing', 'Writing - Original Draft', 'Conceptualization', 'Project Administration']}, 'pharmaceuticals': {'order': 6, 'contributions': ['Writing - Review & Editing', 'Writing - Original Draft', 'Project Administration']}}}, {'github': 'cbrueffer', 'name': 'Christian Brueffer', 'initials': 'CB', 'orcid': '0000-0002-3826-0989', 'twitter': 'cbrueffer', 'email': 'christian.brueffer@med.lu.se', 'contributions': ['Writing - Original Draft', 'Writing - Review & Editing', 'Project Administration'], 'code of conduct': {'confirmed': True}, 'affiliations': ['Department of Clinical Sciences, Lund University, Lund, Sweden'], 'coi': {'string': 'Employee and shareholder of SAGA Diagnostics AB.', 'lastapproved': '2020-11-11'}, 'manuscripts': {'pathogenesis': {'order': 6, 'contributions': ['Writing - Review & Editing', 'Writing - Original Draft']}, 'pharmaceuticals': {'order': 7, 'contributions': ['Writing - Review & Editing', 'Project Administration']}}}, {'github': 'rays1987', 'name': 'Sandipan Ray', 'initials': 'SR', 'orcid': '0000-0002-9960-5768', 'email': 'sandipan.ray@pennmedicine.upenn.edu', 'contributions': ['Writing - Original Draft', 'Writing - Review & Editing'], 'code of conduct': {'confirmed': True}, 'affiliations': ['Department of Biotechnology, Indian Institute of Technology Hyderabad, Kandi, Sangareddy 502285, Telangana, India'], 'coi': {'string': 'None', 'lastapproved': '2020-11-11'}, 'manuscripts': {'pathogenesis': {'order': 3, 'contributions': ['Writing - Review & Editing', 'Writing - Original Draft']}}}, {'github': 'LucyMcGowan', 'name': \"Lucy D\\\\'Agostino McGowan\", 'initials': 'LDM', 'orcid': '0000-0001-7297-9359', 'twitter': 'LucyStats', 'email': 'lucydagostino@gmail.com', 'contributions': ['Methodology', 'Writing - Original Draft'], 'code of conduct': {'confirmed': True}, 'affiliations': ['Department of Mathematics and Statistics, Wake Forest University, Winston-Salem, North Carolina, United States of America'], 'coi': {'string': 'Received consulting fees from Acelity and Sanofi in the past five years', 'lastapproved': '2020-11-10'}, 'manuscripts': {'pathogenesis': {'order': 4, 'contributions': ['Writing - Review & Editing', 'Writing - Original Draft']}}}, {'github': 'agitter', 'name': 'Anthony Gitter', 'initials': 'AG', 'orcid': '0000-0002-5324-9833', 'twitter': 'anthonygitter', 'email': 'gitter@biostat.wisc.edu', 'contributions': ['Methodology', 'Software', 'Project Administration', 'Writing - Original Draft', 'Writing - Review & Editing', 'Visualization'], 'affiliations': ['Department of Biostatistics and Medical Informatics, University of Wisconsin-Madison, Madison, Wisconsin, United States of America', 'Morgridge Institute for Research, Madison, Wisconsin, United States of America'], 'code of conduct': {'confirmed': True}, 'coi': {'string': 'Filed a patent application with the Wisconsin Alumni Research Foundation related to classifying activated T cells', 'lastapproved': '2020-11-10'}, 'funders': ['John W. and Jeanne M. Rowe Center for Research in Virology'], 'manuscripts': {'pathogenesis': {'order': 9, 'contributions': ['Methodology', 'Software', 'Project Administration', 'Writing - Review & Editing']}, 'pharmaceuticals': {'order': 10, 'contributions': ['Writing - Review & Editing', 'Project Administration', 'Visualization', 'Software']}}}, {'github': 'aadattoli', 'name': 'Anna Ada Dattoli', 'initials': 'AAD', 'orcid': '0000-0003-1462-831X', 'twitter': 'aadattoli', 'email': 'anna.dattoli@pennmedicine.upenn.edu', 'contributions': ['Writing - Original Draft'], 'code of conduct': {'confirmed': False}, 'affiliations': ['Department of Systems Pharmacology & Translational Therapeutics, Perelman School of Medicine, University of Pennsylvania, Philadelphia, PA 19104, USA'], 'coi': {'string': 'None', 'lastapproved': '2020-03-26'}, 'manuscripts': {'pharmaceuticals': {'order': 4, 'contributions': ['Writing - Original Draft']}}}, {'github': 'rdvelazquez', 'name': 'Ryan Velazquez', 'initials': 'RV', 'orcid': '0000-0002-3655-3403', 'email': 'rnhvelazquez@gmail.com', 'contributions': ['Methodology', 'Software', 'Writing - Review & Editing'], 'code of conduct': {'confirmed': True}, 'affiliations': ['Azimuth1, McLean, VA'], 'coi': {'string': 'None', 'lastapproved': '2020-11-10'}, 'manuscripts': {'pathogenesis': {'order': 6, 'contributions': ['Writing - Review & Editing']}}}, {'github': 'johnbarton', 'name': 'John P. Barton', 'initials': 'JPB', 'orcid': '0000-0003-1467-421X', 'twitter': '_jpbarton', 'email': 'john.barton@ucr.edu', 'contributions': ['Writing - Original Draft', 'Writing - Review & Editing'], 'code of conduct': {'confirmed': True}, 'affiliations': ['Department of Physics and Astronomy, University of California-Riverside, Riverside, California, United States of America'], 'coi': {'string': 'None', 'lastapproved': '2020-11-11'}, 'manuscripts': {'pathogenesis': {'order': 7, 'contributions': ['Writing - Review & Editing', 'Writing - Original Draft']}}}, {'github': 'Jeff-Field', 'name': 'Jeffrey M. Field', 'initials': 'JMF', 'orcid': '0000-0001-7161-7284', 'email': 'jfield@upenn.edu', 'contributions': ['Writing - Original Draft'], 'code of conduct': {'confirmed': True}, 'affiliations': ['Department of Pharmacology, Perelman School of Medicine, University of Pennsylvania, Philadelphia, PA 19104, USA'], 'coi': {'string': 'None', 'lastapproved': '2020-11-12'}, 'manuscripts': {'pharmaceuticals': {'order': 6, 'contributions': ['Writing - Review & Editing', 'Writing - Original Draft']}}}, {'github': 'rbharath', 'name': 'Bharath Ramsundar', 'initials': 'BR', 'orcid': '0000-0001-8450-4262', 'twitter': 'rbhar90', 'email': 'bharath.ramsundar@gmail.com', 'contributions': ['Investigation', 'Writing - Review & Editing'], 'code of conduct': {'confirmed': True}, 'affiliations': ['The DeepChem Project, https://deepchem.io/'], 'coi': {'string': 'None', 'lastapproved': '2020-11-11'}, 'manuscripts': {'pharmaceuticals': {'order': 7, 'contributions': ['Writing - Review & Editing']}}}, {'github': 'alavendelm', 'name': 'Adam L. MacLean', 'initials': 'ALM', 'orcid': '0000-0003-0689-7907', 'twitter': 'adamlmaclean', 'email': 'macleana@usc.edu', 'contributions': ['Writing - Original Draft', 'Writing - Review & Editing'], 'code of conduct': {'confirmed': True}, 'affiliations': ['Department of Quantitative and Computational Biology, University of Southern California, Los Angeles, California, United States of America'], 'coi': {'string': 'None', 'lastapproved': '2021-02-23'}, 'manuscripts': {'pathogenesis': {'order': 2, 'contributions': ['Writing - Review & Editing', 'Writing - Original Draft']}}}, {'github': 'ajlee21', 'name': 'Alexandra J. Lee', 'initials': 'AJL', 'orcid': '0000-0002-0208-3730', 'email': 'ajlee21@pennmedicine.upenn.edu', 'contributions': ['Writing - Original Draft', 'Writing - Review & Editing'], 'code of conduct': {'confirmed': True}, 'affiliations': ['Department of Systems Pharmacology and Translational Therapeutics, University of Pennsylvania, Philadelphia, Pennsylvania, United States of America'], 'coi': {'string': 'None', 'lastapproved': '2020-11-09'}, 'funders': ['the Gordon and Betty Moore Foundation (GBMF 4552)'], 'manuscripts': {'pathogenesis': {'order': 2, 'contributions': ['Writing - Review & Editing', 'Writing - Original Draft']}, 'pharmaceuticals': {'order': 4, 'contributions': ['Writing - Original Draft', 'Writing - Review & Editing']}}}, {'github': 'ismms-himc', 'name': 'Immunology Institute of the Icahn School of Medicine', 'initials': 'IIISM', 'contributions': ['Data Curation'], 'code of conduct': {'confirmed': False}, 'affiliations': ['Immunology Institute of the Icahn School of Medicine'], 'coi': {'string': 'None', 'lastapproved': '2020-04-07'}, 'consortium': True}, {'github': 'hufengling', 'name': 'Fengling Hu', 'initials': 'FH', 'orcid': '0000-0003-1081-5038', 'twitter': 'hufengling', 'email': 'Fengling.Hu@pennmedicine.upenn.edu', 'contributions': ['Writing - Original Draft', 'Writing - Review & Editing'], 'code of conduct': {'confirmed': False}, 'affiliations': ['Department of Biostatistics, Epidemiology and Informatics, University of Pennsylvania, Philadelphia, Pennsylvania, United States of America'], 'coi': {'string': 'None', 'lastapproved': '2020-04-08'}, 'manuscripts': {'pharmaceuticals': {'order': 4, 'contributions': ['Writing - Original Draft', 'Writing - Review & Editing']}}}, {'github': 'nafisajadavji', 'name': 'Nafisa M. Jadavji', 'initials': 'NMJ', 'orcid': '0000-0002-3557-7307', 'twitter': 'nafisajadavji', 'email': 'njadav@midwestern.edu', 'contributions': ['Writing - Original Draft', 'Writing - Review & Editing'], 'code of conduct': {'confirmed': True}, 'affiliations': ['Biomedical Science, Midwestern University, Glendale, AZ, United States of America', 'Department of Neuroscience, Carleton University, Ottawa, Ontario, Canada'], 'coi': {'string': 'None', 'lastapproved': '2020-11-11'}, 'funders': ['the American Heart Association (20AIREA35050015)'], 'manuscripts': {'pharmaceuticals': {'order': 6, 'contributions': ['Writing - Review & Editing', 'Supervision', 'Writing - Original Draft']}}}, {'github': 'esell17', 'name': 'Elizabeth Sell', 'initials': 'ES', 'orcid': '0000-0002-9658-1107', 'email': 'Elizabeth.Sell@pennmedicine.upenn.edu', 'contributions': ['Writing - Original Draft', 'Writing - Review & Editing'], 'code of conduct': {'confirmed': True}, 'affiliations': ['Perelman School of Medicine, University of Pennsylvania, Philadelphia, Pennsylvania, United States of America'], 'coi': {'string': 'None', 'lastapproved': '2020-11-11'}, 'manuscripts': {'pathogenesis': {'order': 4, 'contributions': ['Writing - Review & Editing', 'Writing - Original Draft']}}}, {'github': 'jinhui2', 'name': 'Jinhui Wang', 'initials': 'JW', 'orcid': '0000-0002-5796-8130', 'email': 'jinhui2@pennmedicine.upenn.edu', 'contributions': ['Writing - Review & Editing'], 'code of conduct': {'confirmed': False}, 'affiliations': ['Perelman School of Medicine, University of Pennsylvania, Philadelphia, Pennsylvania, United States of America'], 'coi': {'string': 'None', 'lastapproved': '2021-01-21'}, 'manuscripts': {'pathogenesis': {'order': 6, 'contributions': ['Writing - Review & Editing']}, 'pharmaceuticals': {'order': 7, 'contributions': ['Writing - Original Draft']}}}, {'github': 'dianerafi', 'name': 'Diane N. Rafizadeh', 'initials': 'DNR', 'orcid': '0000-0002-2838-067X', 'email': 'diane.rafizadeh@pennmedicine.upenn.edu', 'contributions': ['Writing - Original Draft', 'Writing - Review & Editing', 'Project Administration'], 'affiliations': ['Perelman School of Medicine, University of Pennsylvania, Philadelphia, Pennsylvania, United States of America', 'Department of Chemistry, University of Pennsylvania, Philadelphia, Pennsylvania, United States of America'], 'code of conduct': {'confirmed': True}, 'coi': {'string': 'None', 'lastapproved': '2020-11-11'}, 'funders': ['NIH Medical Scientist Training Program T32 GM07170'], 'manuscripts': {'pharmaceuticals': {'order': 5, 'contributions': ['Writing - Original Draft', 'Writing - Review & Editing', 'Project Administration']}}}, {'github': 'anskelly', 'name': 'Ashwin N. Skelly', 'initials': 'ANS', 'orcid': '0000-0002-1565-3376', 'email': 'ashwin.skelly@pennmedicine.upenn.edu', 'contributions': ['Writing - Original Draft', 'Writing - Review & Editing'], 'affiliations': ['Perelman School of Medicine, University of Pennsylvania, Philadelphia, Pennsylvania, United States of America', 'Institute for Immunology, University of Pennsylvania Perelman School of Medicine, Philadelphia, United States of America'], 'code of conduct': {'confirmed': True}, 'coi': {'string': 'None', 'lastapproved': '2020-11-11'}, 'funders': ['NIH Medical Scientist Training Program T32 GM07170'], 'manuscripts': {'pathogenesis': {'order': 4, 'contributions': ['Writing - Review & Editing', 'Writing - Original Draft']}, 'pharmaceuticals': {'order': 7, 'contributions': ['Writing - Review & Editing']}}}, {'github': 'marouenbg', 'name': 'Marouen Ben Guebila', 'initials': 'MBG', 'orcid': '0000-0001-5934-966X', 'twitter': 'marouenbg', 'email': 'marouen.b.guebila@gmail.com', 'contributions': ['Writing - Original Draft'], 'affiliations': ['Department of Biostatistics, Harvard School of Public Health, Boston, Massachusetts, United States of America'], 'code of conduct': {'confirmed': True}, 'coi': {'string': 'None', 'lastapproved': '2020-11-11'}, 'manuscripts': {'pathogenesis': {'order': 4, 'contributions': ['Writing - Review & Editing', 'Writing - Original Draft']}, 'pharmaceuticals': {'order': 6, 'contributions': ['Writing - Original Draft']}}}, {'github': 'likhithakolla', 'name': 'Likhitha Kolla', 'initials': 'LK', 'orcid': '0000-0002-1169-906X', 'twitter': 'lkolla2018', 'email': 'Likhitha.Kolla@Pennmedicine.upenn.edu', 'contributions': ['Writing - Original Draft'], 'affiliations': ['Perelman School of Medicine, University of Pennsylvania, Philadelphia, Pennsylvania, United States of America'], 'code of conduct': {'confirmed': True}, 'coi': {'string': 'None', 'lastapproved': '2020-11-16'}, 'funders': ['NIH Medical Scientist Training Program T32 GM07170']}, {'github': 'davidmanheim', 'name': 'David Manheim', 'initials': 'DM', 'orcid': '0000-0001-8599-8380', 'twitter': 'davidmanheim', 'email': 'davidmanheim@gmail.com', 'contributions': ['Writing - Original Draft', 'Investigation'], 'affiliations': ['1DaySooner, Delaware, United States of America', 'Risk and Health Communication Research Center, School of Public Health, University of Haifa, Haifa, Israel'], 'code of conduct': {'confirmed': True}, 'coi': {'string': 'None', 'lastapproved': '2020-11-11'}}, {'github': 'soumitagh', 'name': 'Soumita Ghosh', 'initials': 'SG', 'orcid': '0000-0002-2783-2750', 'email': 'soumita84@gmail.com', 'contributions': ['Writing - Original Draft'], 'code of conduct': {'confirmed': True}, 'affiliations': ['Institute of Translational Medicine and Therapeutics, Perelman School of Medicine, University of Pennsylvania, Philadelphia, Pennsylvania, United States of America'], 'coi': {'string': 'None', 'lastapproved': '2020-11-09'}, 'manuscripts': {'pharmaceuticals': {'order': 3, 'contributions': ['Writing - Original Draft']}}}, {'github': 'byrdjb', 'name': 'James Brian Byrd', 'initials': 'JBB', 'orcid': '0000-0002-0509-3520', 'twitter': 'thebyrdlab', 'email': 'jbbyrd@med.umich.edu', 'contributions': ['Writing - Original Draft', 'Writing - Review & Editing'], 'affiliations': ['University of Michigan School of Medicine, Ann Arbor, Michigan, United States of America'], 'code of conduct': {'confirmed': True}, 'coi': {'string': 'Funded by FastGrants to conduct a COVID-19-related clinical trial', 'lastapproved': '2020-11-12'}, 'funders': ['NIH K23HL128909', 'FastGrants'], 'manuscripts': {'pathogenesis': {'order': 6, 'contributions': ['Writing - Review & Editing', 'Writing - Original Draft']}, 'pharmaceuticals': {'order': 4, 'contributions': ['Writing - Original Draft', 'Writing - Review & Editing']}}}, {'github': 'ypar', 'name': 'YoSon Park', 'initials': 'YP', 'orcid': '0000-0002-0465-4744', 'twitter': '__yoson__', 'email': 'yoson.park@gmail.com', 'contributions': ['Writing - Original Draft', 'Writing - Review & Editing', 'Investigation'], 'affiliations': ['Department of Systems Pharmacology and Translational Therapeutics, University of Pennsylvania, Philadelphia, Pennsylvania, United States of America'], 'code of conduct': {'confirmed': True}, 'coi': {'string': 'Now employed by Pfizer (subsequent to contributions to this project)', 'lastapproved': '2020-01-22'}, 'funders': 'NHGRI R01 HG10067', 'manuscripts': {'pathogenesis': {'order': 4, 'contributions': ['Writing - Review & Editing', 'Writing - Original Draft']}, 'pharmaceuticals': {'order': 7, 'contributions': ['Writing - Review & Editing']}}}, {'github': 'bansalvi', 'name': 'Vikas Bansal', 'initials': 'VB', 'orcid': '0000-0002-0944-7226', 'twitter': 'VikasBansal1989', 'email': 'bansal.bioinfo@gmail.com', 'contributions': ['Writing - Original Draft', 'Writing - Review & Editing'], 'affiliations': ['Biomedical Data Science and Machine Learning Group, German Center for Neurodegenerative Diseases, Tübingen 72076, Germany'], 'code of conduct': {'confirmed': True}, 'coi': {'string': 'None', 'lastapproved': '2021-01-25'}, 'manuscripts': {'pathogenesis': {'order': 3, 'contributions': ['Writing - Review & Editing', 'Writing - Original Draft']}}}, {'github': 'scapone01', 'name': 'Stephen Capone', 'initials': 'SC', 'orcid': '0000-0001-7231-1535', 'email': 'scapone01@gmail.com', 'contributions': ['Writing - Review & Editing', 'Writing - Original Draft'], 'affiliations': [\"St. George's University School of Medicine, St. George's, Grenada\"], 'code of conduct': {'confirmed': True}, 'coi': {'string': 'None', 'lastapproved': '2020-11-11'}, 'manuscripts': {'pathogenesis': {'order': 4, 'contributions': ['Writing - Review & Editing', 'Writing - Original Draft']}}}, {'github': 'dziakj1', 'name': 'John J. Dziak', 'initials': 'JJD', 'orcid': '0000-0003-0762-5495', 'email': 'dziakj1@gmail.com', 'contributions': ['Writing - Original Draft', 'Writing - Review & Editing'], 'affiliations': ['Edna Bennett Pierce Prevention Research Center, The Pennsylvania State University, University Park, PA, United States of America'], 'code of conduct': {'confirmed': True}, 'coi': {'string': 'None', 'lastapproved': '2020-11-11'}, 'manuscripts': {'pathogenesis': {'order': 4, 'contributions': ['Writing - Review & Editing', 'Writing - Original Draft']}}}, {'github': 'kevinsunofficial', 'name': 'Yuchen Sun', 'initials': 'YS', 'email': 'ys4aj@virginia.edu', 'contributions': ['Visualization'], 'affiliations': ['Department of Computer Science, University of Virginia, Charlottesville, VA, United States of America'], 'code of conduct': {'confirmed': True}, 'coi': {'string': 'None', 'lastapproved': '2020-11-11'}, 'manuscripts': {'pathogenesis': {'order': 4, 'contributions': ['Visualization']}, 'pharmaceuticals': {'order': 5, 'contributions': ['Visualization']}}}, {'github': 'qiyanjun', 'name': 'Yanjun Qi', 'initials': 'YQ', 'orcid': '0000-0002-5796-7453', 'email': 'yanjun.research@gmail.com', 'contributions': ['Visualization'], 'affiliations': ['Department of Computer Science, University of Virginia, Charlottesville, VA, United States of America'], 'code of conduct': {'confirmed': True}, 'coi': {'string': 'None', 'lastapproved': '2020-07-09'}, 'manuscripts': {'pathogenesis': {'order': 4, 'contributions': ['Visualization']}, 'pharmaceuticals': {'order': 5, 'contributions': ['Visualization']}}}, {'github': 'LSH2126', 'name': 'Lamonica Shinholster', 'initials': 'LS', 'orcid': '0000-0001-6285-005X', 'email': 'lamonica.y.shinholster@live.mercer.edu', 'contributions': ['Writing - Original Draft'], 'affiliations': ['Mercer University, Macon, GA, United States of America'], 'code of conduct': {'confirmed': True}, 'coi': {'string': 'None', 'lastapproved': '2020-11-11'}, 'funders': ['the Center for Global Genomics and Health Equity at the University of Pennsylvania'], 'manuscripts': {'pathogenesis': {'order': 4, 'contributions': ['Writing - Original Draft']}}}, {'github': 'tlukan', 'name': 'Temitayo Lukan', 'initials': 'TL', 'email': 'tlukan@sas.upenn.edu', 'contributions': ['Writing - Original Draft', 'Investigation'], 'affiliations': ['University of Pennsylvania, Philadelphia, PA, United States of America'], 'code of conduct': {'confirmed': True}, 'coi': {'string': 'None', 'lastapproved': '2020-11-10'}}, {'github': 'Sergey-Knyazev', 'name': 'Sergey Knyazev', 'initials': 'SK', 'orcid': '0000-0003-0385-1831', 'twitter': 'SeKnyaz', 'email': 'sergey.n.knyazev@gmail.com', 'contributions': ['Writing - Original Draft', 'Writing - Review & Editing'], 'affiliations': ['Georgia State University, Atlanta, GA, United States of America'], 'code of conduct': {'confirmed': True}, 'coi': {'string': 'None', 'lastapproved': '2020-11-11'}, 'manuscripts': {'pathogenesis': {'order': 4, 'contributions': ['Writing - Review & Editing', 'Writing - Original Draft']}}}, {'github': 'SystemsResearch', 'name': 'Dimitri Perrin', 'initials': 'DP', 'orcid': '0000-0002-4007-5256', 'twitter': 'dperrin', 'email': 'dimitri.perrin@qut.edu.au', 'contributions': ['Writing - Original Draft', 'Writing - Review & Editing'], 'affiliations': ['School of Computer Science, Queensland University of Technology, Brisbane, Australia', 'Centre for Data Science, Queensland University of Technology, Brisbane, Australia'], 'code of conduct': {'confirmed': True}, 'coi': {'string': 'None', 'lastapproved': '2020-11-11'}}, {'github': 'smangul1', 'name': 'Serghei Mangul', 'initials': 'SM', 'orcid': '0000-0003-4770-3443', 'twitter': 'serghei_mangul', 'email': 'serghei.mangul@gmail.com', 'contributions': ['Writing - Review & Editing'], 'affiliations': ['Department of Clinical Pharmacy, School of Pharmacy, University of Southern California, Los Angeles, CA, United States of America'], 'code of conduct': {'confirmed': True}, 'coi': {'string': 'None', 'lastapproved': '2020-11-11'}, 'manuscripts': {'pathogenesis': {'order': 7, 'contributions': ['Writing - Review & Editing']}}}, {'github': 'shiktadas', 'name': 'Shikta Das', 'initials': 'SD', 'orcid': '0000-0002-8291-2788', 'twitter': 'shikta_das', 'email': 'shikta_das@yahoo.co.uk', 'contributions': ['Writing - Review & Editing'], 'affiliations': ['C4X Discovery, London, United Kingdom', 'Medical Research Council LHA, Institute of Cardiovascular Studies, University College London, London, United Kingdom'], 'code of conduct': {'confirmed': True}, 'coi': {'string': 'None', 'lastapproved': '2020-08-13'}}, {'github': 'gregszetoAI', 'name': 'Gregory L Szeto', 'initials': 'GLS', 'orcid': '0000-0001-7604-1333', 'twitter': 'greg_szeto', 'email': 'greg.szeto@alleninstitute.org', 'contributions': ['Writing - Review & Editing'], 'affiliations': ['Allen Institute for Immunology, Seattle, WA, United States of America'], 'code of conduct': {'confirmed': True}, 'coi': {'string': 'None', 'lastapproved': '2020-11-16'}, 'manuscripts': {'pathogenesis': {'order': 7, 'contributions': ['Writing - Review & Editing']}}}, {'github': 'lubianat', 'name': 'Tiago Lubiana', 'initials': 'TL', 'orcid': '0000-0003-2473-2313', 'twitter': 'lubianat', 'email': 'tiago.lubiana.alves@usp.br', 'contributions': ['Writing - Review & Editing'], 'affiliations': ['Department of Clinical and Toxicological Analyses, School of Pharmaceutical Sciences, University of São Paulo, São Paulo, Brazil'], 'code of conduct': {'confirmed': True}, 'coi': {'string': 'None', 'lastapproved': '2020-11-11'}, 'manuscripts': {'pathogenesis': {'order': 7, 'contributions': ['Writing - Review & Editing']}}}, {'github': 'davemai', 'name': 'David Mai', 'initials': 'DM', 'orcid': '0000-0002-9238-0164', 'twitter': 'daveomai', 'email': 'damai@seas.upenn.edu', 'contributions': ['Writing - Original Draft', 'Writing - Review & Editing'], 'affiliations': ['Department of Bioengineering, University of Pennsylvania, Philadelphia, PA, USA'], 'code of conduct': {'confirmed': True}, 'coi': {'string': 'None', 'lastapproved': '2021-01-08'}, 'manuscripts': {'pathogenesis': {'order': 5, 'contributions': ['Writing - Review & Editing', 'Writing - Original Draft']}}}, {'name': 'COVID-19 Review Consortium', 'code of conduct': {'confirmed': True}, 'coi': {'string': 'None', 'lastapproved': '2021-01-16'}, 'consortium': True, 'manuscripts': {'pathogenesis': {'order': 8, 'contributions': ['Project Administration']}, 'nutraceuticals': {'order': 3, 'contributions': ['Project Administration']}, 'pharmaceuticals': {'order': 8, 'contributions': ['Project Administration']}}}, {'github': 'rishirajgoel', 'name': 'Rishi Raj Goel', 'initials': 'RRG', 'orcid': '0000-0003-1715-5191', 'email': 'rishi.goel@pennmedicine.upenn.edu', 'twitter': 'rishirajgoel', 'code of conduct': {'confirmed': True}, 'affiliations': ['Institute for Immunology, University of Pennsylvania, Philadelphia, PA, United States of America'], 'coi': {'string': 'None', 'lastapproved': '2021-01-20'}, 'manuscripts': {'pathogenesis': {'order': 7, 'contributions': ['Writing - Original Draft', 'Writing - Review & Editing']}, 'pharmaceuticals': {'order': 7, 'contributions': ['Writing - Review & Editing']}}}, {'github': 'jboerckel', 'name': 'Joel D Boerckel', 'initials': 'JDB', 'orcid': '0000-0003-3126-3025', 'email': 'boerckel@pennmedicine.upenn.edu', 'twitter': 'jboerckel', 'code of conduct': {'confirmed': True}, 'affiliations': ['Department of Orthopaedic Surgery, Perelman School of Medicine, University of Pennsylvania, Philadelphia, PA, United States of America', 'Department of Bioengineering, University of Pennsylvania, Philadelphia, PA, United States of America'], 'coi': {'string': 'None', 'lastapproved': '2021-03-26'}, 'manuscripts': {'pathogenesis': {'order': 0, 'contributions': ['Writing - Review & Editing']}}}, {'github': 'NAIKA86', 'name': 'Amruta Naik', 'initials': 'AN', 'orcid': '0000-0003-0673-2643', 'email': 'NAIKA@chop.edu', 'code of conduct': {'confirmed': True}, 'affiliations': [\"Children's Hospital of Philadelphia, Philadelphia, PA, United States of America\"], 'coi': {'string': 'None', 'lastapproved': '2021-04-05'}}, {'github': 'yusha-sun', 'name': 'Yusha Sun', 'initials': 'YS', 'orcid': '0000-0003-4835-3000', 'email': 'yusha.sun@pennmedicine.upenn.edu', 'code of conduct': {'confirmed': True}, 'affiliations': ['Perelman School of Medicine, University of Pennsylvania, Philadelphia, Pennsylvania, United States of America'], 'coi': {'string': 'None', 'lastapproved': '2021-04-10'}, 'manuscripts': {'evolution': {'order': 0, 'contributions': ['Writing - Review & Editing']}}}]}\n"
     ]
    }
   ],
   "source": [
    "metadataURL=\"https://raw.githubusercontent.com/greenelab/covid19-review/master/content/metadata.yaml\"\n",
    "metadataDownload = wget.download(metadataURL, out=\"metadata.yaml\")\n",
    "with open(\"metadata.yaml\", \"r\") as read_file:\n",
    "    metadata = yaml.load(read_file)\n",
    "print(metadata)"
   ]
  },
  {
   "cell_type": "code",
   "execution_count": 54,
   "metadata": {},
   "outputs": [],
   "source": [
    "authors = metadata['authors']\n",
    "stats['review_authors'] = len(authors)"
   ]
  },
  {
   "cell_type": "markdown",
   "metadata": {},
   "source": [
    "## GitHub repo stats"
   ]
  },
  {
   "cell_type": "code",
   "execution_count": 55,
   "metadata": {},
   "outputs": [],
   "source": [
    "# https://developer.github.com/v3/repos/#get\n",
    "response = requests.get('https://api.github.com/repos/greenelab/covid19-review')\n",
    "result = response.json()\n",
    "stats['github_stars'] = result['stargazers_count']\n",
    "stats['github_forks'] = result['forks_count']"
   ]
  },
  {
   "cell_type": "markdown",
   "metadata": {},
   "source": [
    "### Number of pull requests"
   ]
  },
  {
   "cell_type": "code",
   "execution_count": 56,
   "metadata": {},
   "outputs": [],
   "source": [
    "def github_issue_search(query):\n",
    "    \"\"\"\n",
    "    Search issues and pull requests on GitHub.\n",
    "\n",
    "    https://developer.github.com/v3/search/#search-issues\n",
    "    https://help.github.com/articles/searching-issues-and-pull-requests/\n",
    "    \"\"\"\n",
    "    url = 'https://api.github.com/search/issues'\n",
    "    params = {\n",
    "        'q': query,\n",
    "        'sort': 'created',\n",
    "        'order': 'asc',\n",
    "    }\n",
    "    response = requests.get(url, params)\n",
    "    print(response.url)\n",
    "    assert response.status_code == 200\n",
    "    result = response.json()\n",
    "    assert not result['incomplete_results']\n",
    "    return result"
   ]
  },
  {
   "cell_type": "code",
   "execution_count": 57,
   "metadata": {},
   "outputs": [
    {
     "name": "stdout",
     "output_type": "stream",
     "text": [
      "https://api.github.com/search/issues?q=repo%3Agreenelab%2Fcovid19-review+type%3Apr+is%3Amerged&sort=created&order=asc\n"
     ]
    }
   ],
   "source": [
    "# Merged PRs\n",
    "result = github_issue_search('repo:greenelab/covid19-review type:pr is:merged')\n",
    "stats['merged_pull_requests'] = result['total_count']"
   ]
  },
  {
   "cell_type": "code",
   "execution_count": 58,
   "metadata": {},
   "outputs": [
    {
     "name": "stdout",
     "output_type": "stream",
     "text": [
      "https://api.github.com/search/issues?q=repo%3Agreenelab%2Fcovid19-review+type%3Apr+is%3Aunmerged+state%3Aclosed&sort=created&order=asc\n"
     ]
    }
   ],
   "source": [
    "# Closed PRs that were not merged\n",
    "result = github_issue_search('repo:greenelab/covid19-review type:pr is:unmerged state:closed')\n",
    "stats['declined_pull_requests'] = result['total_count']"
   ]
  },
  {
   "cell_type": "code",
   "execution_count": 59,
   "metadata": {},
   "outputs": [
    {
     "name": "stdout",
     "output_type": "stream",
     "text": [
      "https://api.github.com/search/issues?q=repo%3Agreenelab%2Fcovid19-review+type%3Apr+state%3Aopen&sort=created&order=asc\n"
     ]
    }
   ],
   "source": [
    "# Open PRs\n",
    "result = github_issue_search('repo:greenelab/covid19-review type:pr state:open')\n",
    "stats['open_pull_requests'] = result['total_count']"
   ]
  },
  {
   "cell_type": "code",
   "execution_count": 60,
   "metadata": {},
   "outputs": [
    {
     "name": "stdout",
     "output_type": "stream",
     "text": [
      "https://api.github.com/search/issues?q=repo%3Agreenelab%2Fcovid19-review+type%3Aissue+state%3Aopen&sort=created&order=asc\n"
     ]
    }
   ],
   "source": [
    "# Open Issues\n",
    "result = github_issue_search('repo:greenelab/covid19-review type:issue state:open')\n",
    "stats['open_issues'] = result['total_count']"
   ]
  },
  {
   "cell_type": "code",
   "execution_count": 61,
   "metadata": {},
   "outputs": [
    {
     "name": "stdout",
     "output_type": "stream",
     "text": [
      "https://api.github.com/search/issues?q=repo%3Agreenelab%2Fcovid19-review+type%3Aissue+state%3Aclosed&sort=created&order=asc\n"
     ]
    }
   ],
   "source": [
    "# Closed Issues\n",
    "result = github_issue_search('repo:greenelab/covid19-review type:issue state:closed')\n",
    "stats['closed_issues'] = result['total_count']"
   ]
  },
  {
   "cell_type": "markdown",
   "metadata": {},
   "source": [
    "## Write stats"
   ]
  },
  {
   "cell_type": "code",
   "execution_count": 62,
   "metadata": {},
   "outputs": [
    {
     "name": "stdout",
     "output_type": "stream",
     "text": [
      "{\n",
      "  \"creation_time_utc\": \"2021-04-28T16:40:32.756920\",\n",
      "  \"creation_date_pretty\": \"April 28, 2021\",\n",
      "  \"commit\": \"05acaf59cd3a3701df8ce0ad113773e154774d82\",\n",
      "  \"total_commits\": 4408,\n",
      "  \"manuscript_commits\": 2509,\n",
      "  \"review_authors\": 49,\n",
      "  \"github_stars\": 105,\n",
      "  \"github_forks\": 77,\n",
      "  \"merged_pull_requests\": 507,\n",
      "  \"declined_pull_requests\": 27,\n",
      "  \"open_pull_requests\": 9,\n",
      "  \"open_issues\": 318,\n",
      "  \"closed_issues\": 83\n",
      "}\n"
     ]
    }
   ],
   "source": [
    "stats_str = json.dumps(stats, indent=2)\n",
    "print(stats_str)"
   ]
  },
  {
   "cell_type": "code",
   "execution_count": 63,
   "metadata": {},
   "outputs": [
    {
     "data": {
      "text/plain": [
       "414"
      ]
     },
     "execution_count": 63,
     "metadata": {},
     "output_type": "execute_result"
    }
   ],
   "source": [
    "path = pathlib.Path('covid19-review-stats.json')\n",
    "path.write_text(stats_str)"
   ]
  },
  {
   "cell_type": "code",
   "execution_count": null,
   "metadata": {},
   "outputs": [],
   "source": []
  }
 ],
 "metadata": {
  "kernelspec": {
   "display_name": "Python 3",
   "language": "python",
   "name": "python3"
  },
  "language_info": {
   "codemirror_mode": {
    "name": "ipython",
    "version": 3
   },
   "file_extension": ".py",
   "mimetype": "text/x-python",
   "name": "python",
   "nbconvert_exporter": "python",
   "pygments_lexer": "ipython3",
   "version": "3.6.7"
  }
 },
 "nbformat": 4,
 "nbformat_minor": 2
}
